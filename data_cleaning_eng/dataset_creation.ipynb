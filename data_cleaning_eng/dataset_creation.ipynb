{
 "cells": [
  {
   "cell_type": "code",
   "execution_count": 1,
   "metadata": {},
   "outputs": [],
   "source": [
    "import pandas as pd\n",
    "import numpy as np\n",
    "pd.set_option('display.max_rows', 120)\n",
    "pd.set_option('display.max_columns', 120)"
   ]
  },
  {
   "cell_type": "markdown",
   "metadata": {},
   "source": [
    "# Dataset Engineering\n",
    "\n",
    "Input: data/dataset.xlsx\n",
    "Output: data/dataset_clean.xlsx\n",
    "\n",
    "Data Cleaning\n",
    " - filtering for covid positive patients\n",
    " - removing cols with >= 98% missing\n",
    "Data Engineering:\n",
    " - Imputing numerical vars based on mean for col\n",
    " - Grouping vars: Either create binary indicator of whether or not a group of tests was completed OR create numerical variable of # of tests from group completed\n",
    " - Y var: any changes here?"
   ]
  }
 ],
 "metadata": {
  "kernelspec": {
   "display_name": "Python 3",
   "language": "python",
   "name": "python3"
  },
  "language_info": {
   "codemirror_mode": {
    "name": "ipython",
    "version": 3
   },
   "file_extension": ".py",
   "mimetype": "text/x-python",
   "name": "python",
   "nbconvert_exporter": "python",
   "pygments_lexer": "ipython3",
   "version": "3.8.3"
  }
 },
 "nbformat": 4,
 "nbformat_minor": 4
}
